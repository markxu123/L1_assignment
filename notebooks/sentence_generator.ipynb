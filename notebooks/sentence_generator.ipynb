{
 "cells": [
  {
   "cell_type": "markdown",
   "source": [
    "## 说明\n",
    "最近球鞋市场比较火，我本身是个球鞋爱好者，这里定义一个关于购买球鞋的语法生成器\n",
    "\n"
   ],
   "metadata": {
    "collapsed": false
   }
  },
  {
   "cell_type": "code",
   "execution_count": 18,
   "outputs": [],
   "source": [
    "buy_sneakers_rules = '''\n",
    "buy_sneakers = names exterior trend decision tail\n",
    "names = name names | name\n",
    "name = 黑天使 | 黑魂 | 倒钩 | cacai联名 | 芝加哥\n",
    "exterior = 真好看 | 真香 | 太普通了 | 上脚还不错\n",
    "trend = 最近价格暴涨 | 最近价格比较稳定 |  最近价格跌了\n",
    "decision = 我买 | 可我买不起\n",
    "tail = 了 | 吧 | ！\n",
    "'''"
   ],
   "metadata": {
    "collapsed": false,
    "pycharm": {
     "name": "#%%\n",
     "is_executing": false
    }
   }
  },
  {
   "cell_type": "code",
   "execution_count": 16,
   "outputs": [],
   "source": [
    "sell_sneakers_rules = '''\n",
    "sell_sneakers = names exterior trend decision tail\n",
    "names = name names | name\n",
    "name = 黑天使 | 黑魂 | 倒钩 | cacai联名 | 芝加哥\n",
    "exterior = 不会补货了 | 要绝版了 | 最近太火了 \n",
    "trend = 价格可能会张 | 价格可能比较平稳 |  价格可能要跌\n",
    "decision = 我先不发货 | 我再等等\n",
    "tail = 了 | 吧 | ！\n",
    "'''\n"
   ],
   "metadata": {
    "collapsed": false,
    "pycharm": {
     "name": "#%%\n",
     "is_executing": false
    }
   }
  },
  {
   "cell_type": "code",
   "execution_count": 7,
   "outputs": [],
   "source": [
    "import random\n",
    "def generate(grammar_rule, target):\n",
    "    if target in grammar_rule: # names \n",
    "        candidates = grammar_rule[target]  # ['name names', 'name']\n",
    "        candidate = random.choice(candidates) #'name names', 'name'\n",
    "        # 添加名字的去重\n",
    "        if target == \"name\":\n",
    "            grammar_rule[target].remove(candidate)\n",
    "            \n",
    "        return ' '.join(generate(grammar_rule, target=c.strip()) for c in candidate.split())\n",
    "    else:\n",
    "        return target\n",
    "\n"
   ],
   "metadata": {
    "collapsed": false,
    "pycharm": {
     "name": "#%%\n",
     "is_executing": false
    }
   }
  },
  {
   "cell_type": "code",
   "execution_count": 8,
   "outputs": [],
   "source": [
    "\n",
    "def get_generation_by_gram(grammar_str: str, target, stmt_split='=', or_split='|'):\n",
    "\n",
    "    rules = dict() # key is the @statement, value is @expression\n",
    "    for line in grammar_str.split('\\n'):\n",
    "        if not line: continue\n",
    "        stmt, expr = line.split(stmt_split)\n",
    "        #print(stmt, expr)\n",
    "        rules[stmt.strip()] = expr.split(or_split)\n",
    "    generated = generate(rules, target=target)\n",
    "    \n",
    "    return generated\n"
   ],
   "metadata": {
    "collapsed": false,
    "pycharm": {
     "name": "#%%\n",
     "is_executing": false
    }
   }
  },
  {
   "cell_type": "code",
   "execution_count": 19,
   "outputs": [
    {
     "data": {
      "text/plain": "'倒钩 上脚还不错 最近价格比较稳定 可我买不起 了'"
     },
     "metadata": {},
     "output_type": "execute_result",
     "execution_count": 19
    }
   ],
   "source": [
    "get_generation_by_gram(buy_sneakers_rules, 'buy_sneakers')"
   ],
   "metadata": {
    "collapsed": false,
    "pycharm": {
     "name": "#%%\n",
     "is_executing": false
    }
   }
  },
  {
   "cell_type": "code",
   "execution_count": 23,
   "outputs": [
    {
     "data": {
      "text/plain": "'cacai联名 最近太火了 价格可能会张 我先不发货 了'"
     },
     "metadata": {},
     "output_type": "execute_result",
     "execution_count": 23
    }
   ],
   "source": [
    "get_generation_by_gram(sell_sneakers_rules, 'sell_sneakers')\n",
    "\n",
    "\n"
   ],
   "metadata": {
    "collapsed": false,
    "pycharm": {
     "name": "#%%\n",
     "is_executing": false
    }
   }
  },
  {
   "cell_type": "code",
   "execution_count": 37,
   "outputs": [],
   "source": [
    "def get_generation_by_gram_n(grammar_str: str, target, stmt_split='=', or_split='|' ,n = 1):\n",
    "    i = 0\n",
    "    global g_target\n",
    "    g_target = target\n",
    "    while i < n :\n",
    "        rules = dict() # key is the @statement, value is @expression\n",
    "        for line in grammar_str.split('\\n'):\n",
    "            if not line: continue\n",
    "            stmt, expr = line.split(stmt_split)\n",
    "            #print(stmt, expr)\n",
    "            rules[stmt.strip()] = expr.split(or_split)\n",
    "        generated = generate(rules, target=g_target)\n",
    "        print(generated)\n",
    "        #return generated\n",
    "        i += 1\n"
   ],
   "metadata": {
    "collapsed": false,
    "pycharm": {
     "name": "#%%\n",
     "is_executing": false
    }
   }
  },
  {
   "cell_type": "code",
   "execution_count": 39,
   "outputs": [
    {
     "name": "stdout",
     "text": [
      "黑天使 芝加哥 cacai联名 不会补货了 价格可能要跌 我先不发货 了\n芝加哥 倒钩 黑魂 cacai联名 不会补货了 价格可能要跌 我再等等 ！\n黑魂 倒钩 芝加哥 最近太火了 价格可能要跌 我再等等 ！\n倒钩 cacai联名 要绝版了 价格可能比较平稳 我再等等 了\ncacai联名 不会补货了 价格可能比较平稳 我再等等 吧\n芝加哥 倒钩 最近太火了 价格可能比较平稳 我再等等 吧\n"
     ],
     "output_type": "stream"
    }
   ],
   "source": [
    "get_generation_by_gram_n(sell_sneakers_rules, 'sell_sneakers',n = 6)\n"
   ],
   "metadata": {
    "collapsed": false,
    "pycharm": {
     "name": "#%%\n",
     "is_executing": false
    }
   }
  },
  {
   "cell_type": "code",
   "execution_count": null,
   "outputs": [],
   "source": [
    "\n"
   ],
   "metadata": {
    "collapsed": false,
    "pycharm": {
     "name": "#%%\n"
    }
   }
  }
 ],
 "metadata": {
  "language_info": {
   "codemirror_mode": {
    "name": "ipython",
    "version": 2
   },
   "file_extension": ".py",
   "mimetype": "text/x-python",
   "name": "python",
   "nbconvert_exporter": "python",
   "pygments_lexer": "ipython2",
   "version": "2.7.6"
  },
  "kernelspec": {
   "name": "python3",
   "language": "python",
   "display_name": "Python 3"
  },
  "pycharm": {
   "stem_cell": {
    "cell_type": "raw",
    "source": [
     "\n",
     "\n"
    ],
    "metadata": {
     "collapsed": false
    }
   }
  }
 },
 "nbformat": 4,
 "nbformat_minor": 0
}