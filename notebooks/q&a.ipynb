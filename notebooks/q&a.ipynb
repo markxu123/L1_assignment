{
 "cells": [
  {
   "cell_type": "markdown",
   "metadata": {
    "collapsed": true,
    "pycharm": {
     "name": "#%% md\n"
    }
   },
   "source": [
    "2.1. what do you want to acquire in this course？  \n",
    "我想学习ai编程的思想，明白主流的算法原理，以及学会主流框架sklearn,tensflow,pytorch等得使用"
   ]
  },
  {
   "cell_type": "markdown",
   "source": [
    "2.2. what problems do you want to solve？  \n",
    " 了解nlp解决问题的思想方法；  \n",
    " 学习基础的算法原理；  \n",
    " 学会使用主流的框架能；    \n",
    " 对于工业生产问题能够快速构建方案；  \n",
    " 成为一名合格的AI工程师  "
   ],
   "metadata": {
    "collapsed": false
   }
  },
  {
   "cell_type": "markdown",
   "source": [
    "2.3. what’s the advantages you have to finish you goal?  \n",
    "我从事python开发5年时间，编程有一定基础"
   ],
   "metadata": {
    "collapsed": false
   }
  },
  {
   "cell_type": "markdown",
   "source": [
    "2.4. what’s the disadvantages you need to overcome to finish you goal?  \n",
    "算法基础薄弱，本科学历且非计算机，数学专业"
   ],
   "metadata": {
    "collapsed": false
   }
  },
  {
   "cell_type": "markdown",
   "source": [
    "2.5. How will you plan to study in this course period?  \n",
    "首先充分理解老师课上的内容，学习老师在nlp方向的解决问题思想，课后进行复盘并补充算法细节的自学"
   ],
   "metadata": {
    "collapsed": false
   }
  },
  {
   "cell_type": "markdown",
   "source": [
    "\n",
    "基础理论部分\n",
    "0. Can you come up out 3 sceneraies which use AI methods?  \n",
    "Ans: 自动驾驶，语音识别，手写识别\n",
    "\n",
    "1. How do we use Github; Why do we use Jupyter and Pycharm;   \n",
    "Ans: Git目前是最流行的代码版本管理工具，githup相当于云端的git仓库可供我们对代码进行提交,下载和分支管理，jupyter note在ai领域是比较流行的，\n",
    "将代码和运行结果已文档和图的形式展现出来，pycharm我个人觉得是目前最强大的python ide之一集成了很多使用的工具，并支持很多Python常用框架的调代码试，\n",
    "能提供程序员的开发效率\n",
    "\n",
    "\n",
    "2. What's the Probability Model?  \n",
    "Ans:我的理解是基于概率来判断正确性的问题，比如一个两类分问题：判断图片里的是不是鱼，\n",
    "而我们通过模型计算得出的是这张图片是鱼的概率是多少\n",
    "\n",
    "3. Can you came up with some sceneraies at which we could use Probability Model?  \n",
    "Ans:人脸识别，手写识别，语音识别\n",
    "\n",
    "4. Why do we use probability and what's the difficult points for programming based on parsing and pattern match?  \n",
    "Ans:语法树分支太多，编程模型较为复杂，而且很难覆盖所有的语法比如一些流行用语或者口语等一系列非标语法，而且语法树可能平凡更新比如出现了新\n",
    "的流行语时，模型都需要重新编码，而基于概率的模型则可以避免这一点，只需要更新语料库即可\n",
    "\n",
    "5. What's the Language Model;  \n",
    "Ans:判断语言或句子是否正确的程序\n",
    "\n",
    "6. Can you came up with some sceneraies at which we could use Language Model?  \n",
    "Ans:语音识别输入法，手写识别输入法\n",
    "\n",
    "7. What's the 1-gram language model;  \n",
    "Ans:通过计算每个分词正确出现的概率来评估整个语句是否合规的模型\n",
    "\n",
    "8. What's the disadvantages and advantages of 1-gram language model;  \n",
    "Ans:个人理解优点是简单很容易计算出结果，对于简单句可能会有比较好的效果，缺点是没有联系上下文只计算单个分词在语料库中出现的概率，对于复杂的\n",
    "语句正确率不高\n",
    "\n",
    "9. What't the 2-gram models;  \n",
    "Ans:假设当前分词出现的概率只和上个分词有关系"
   ],
   "metadata": {
    "collapsed": false
   }
  }
 ],
 "metadata": {
  "language_info": {
   "codemirror_mode": {
    "name": "ipython",
    "version": 2
   },
   "file_extension": ".py",
   "mimetype": "text/x-python",
   "name": "python",
   "nbconvert_exporter": "python",
   "pygments_lexer": "ipython2",
   "version": "2.7.6"
  },
  "kernelspec": {
   "name": "python3",
   "language": "python",
   "display_name": "Python 3"
  },
  "pycharm": {
   "stem_cell": {
    "cell_type": "raw",
    "source": [],
    "metadata": {
     "collapsed": false
    }
   }
  }
 },
 "nbformat": 4,
 "nbformat_minor": 0
}