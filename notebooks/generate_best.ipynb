{
 "cells": [
  {
   "cell_type": "code",
   "metadata": {
    "collapsed": true,
    "pycharm": {
     "name": "#%% md \n",
     "is_executing": false
    }
   },
   "source": [
    "\n",
    "\n",
    "# 生成句子，这里为了方便看出效果，默认有一句符合常规语法 ，其他的随机生成\n",
    "\n",
    "import jieba \n",
    "import random\n",
    "def generate_sentence(sentence , n = 10):\n",
    "    _list = []\n",
    "    _list.append(sentence)\n",
    "    \n",
    "    while n >1:\n",
    "        words = list(jieba.cut(sentence))\n",
    "        str = ''\n",
    "        for i in words:\n",
    "            str += random.choice(words)\n",
    "        _list.append(str)\n",
    "        n-= 1\n",
    "    return _list\n",
    "        \n",
    "        \n",
    "generate_sentence(\"新华社待遇不错,薪资待遇很高\")"
   ],
   "execution_count": 5,
   "outputs": [
    {
     "data": {
      "text/plain": "['新华社待遇不错,薪资待遇很高',\n '不错高待遇不错新华社新华社不错不错',\n '待遇很很高高高,很',\n '待遇薪资,不错高,待遇薪资',\n '新华社待遇不错薪资待遇,待遇高',\n '新华社新华社很待遇薪资高不错待遇',\n '薪资,,待遇新华社薪资很待遇',\n '高很待遇高,不错高待遇',\n '待遇新华社,很很,新华社不错',\n '待遇待遇薪资薪资,待遇很待遇']"
     },
     "metadata": {},
     "output_type": "execute_result",
     "execution_count": 5
    }
   ]
  },
  {
   "cell_type": "code",
   "execution_count": 6,
   "outputs": [],
   "source": [
    "# 训练模型\n",
    "clean_corpus ='../data/clean_train.txt'\n"
   ],
   "metadata": {
    "collapsed": false,
    "pycharm": {
     "name": "#%%\n",
     "is_executing": false
    }
   }
  },
  {
   "cell_type": "code",
   "execution_count": 7,
   "outputs": [],
   "source": [
    "FILE = open(clean_corpus).read()"
   ],
   "metadata": {
    "collapsed": false,
    "pycharm": {
     "name": "#%%\n",
     "is_executing": false
    }
   }
  },
  {
   "cell_type": "code",
   "execution_count": 8,
   "outputs": [],
   "source": [
    "# 分词\n",
    "def cut(string):\n",
    "    return list(jieba.cut(string))"
   ],
   "metadata": {
    "collapsed": false,
    "pycharm": {
     "name": "#%%\n",
     "is_executing": false
    }
   }
  },
  {
   "cell_type": "code",
   "execution_count": 9,
   "outputs": [],
   "source": [
    "TOKENS = cut(FILE)"
   ],
   "metadata": {
    "collapsed": false,
    "pycharm": {
     "name": "#%%\n",
     "is_executing": false
    }
   }
  },
  {
   "cell_type": "code",
   "execution_count": 10,
   "outputs": [],
   "source": [
    "# 计数器\n",
    "from collections import Counter\n",
    "%matplotlib inline"
   ],
   "metadata": {
    "collapsed": false,
    "pycharm": {
     "name": "#%%\n",
     "is_executing": false
    }
   }
  },
  {
   "cell_type": "code",
   "execution_count": 11,
   "outputs": [],
   "source": [
    "words_count = Counter(TOKENS)"
   ],
   "metadata": {
    "collapsed": false,
    "pycharm": {
     "name": "#%%\n",
     "is_executing": false
    }
   }
  },
  {
   "cell_type": "code",
   "execution_count": 12,
   "outputs": [],
   "source": [
    "_2_gram_words = [\n",
    "    TOKENS[i] + TOKENS[i+1] for i in range(len(TOKENS)-1)\n",
    "]"
   ],
   "metadata": {
    "collapsed": false,
    "pycharm": {
     "name": "#%%\n",
     "is_executing": false
    }
   }
  },
  {
   "cell_type": "code",
   "execution_count": 13,
   "outputs": [],
   "source": [
    "_2_gram_word_counts = Counter(_2_gram_words)\n"
   ],
   "metadata": {
    "collapsed": false,
    "pycharm": {
     "name": "#%%\n",
     "is_executing": false
    }
   }
  },
  {
   "cell_type": "code",
   "execution_count": 14,
   "outputs": [],
   "source": [
    "def get_gram_count(word, wc):\n",
    "    if word in wc: \n",
    "        return wc[word]\n",
    "    else:\n",
    "        return wc.most_common()[-1][-1]"
   ],
   "metadata": {
    "collapsed": false,
    "pycharm": {
     "name": "#%%\n",
     "is_executing": false
    }
   }
  },
  {
   "cell_type": "code",
   "execution_count": 15,
   "outputs": [],
   "source": [
    "# 2-gram模型\n",
    "def two_gram_model(sentence):\n",
    "    # 2-gram langauge model\n",
    "    tokens = cut(sentence)\n",
    "    \n",
    "    probability = 1\n",
    "    \n",
    "    for i in range(len(tokens)-1):\n",
    "        word = tokens[i]\n",
    "        next_word = tokens[i+1]\n",
    "        \n",
    "        _two_gram_c = get_gram_count(word+next_word, _2_gram_word_counts)\n",
    "        _one_gram_c = get_gram_count(next_word, words_count)\n",
    "        pro =  _two_gram_c / _one_gram_c\n",
    "        \n",
    "        probability *= pro\n",
    "    \n",
    "    return probability  \n"
   ],
   "metadata": {
    "collapsed": false,
    "pycharm": {
     "name": "#%%\n",
     "is_executing": false
    }
   }
  },
  {
   "cell_type": "code",
   "execution_count": 26,
   "outputs": [],
   "source": [
    "def generate_best(sentence):\n",
    "    list = generate_sentence(sentence)\n",
    "    dict  = []\n",
    "    for sen in list:\n",
    "        pro = two_gram_model(sen)\n",
    "        dict.append((sen, pro))\n",
    "    dic = sorted(dict, key=lambda x: x[1], reverse= True)\n",
    "    return dic"
   ],
   "metadata": {
    "collapsed": false,
    "pycharm": {
     "name": "#%%\n",
     "is_executing": false
    }
   }
  },
  {
   "cell_type": "code",
   "execution_count": 28,
   "outputs": [
    {
     "data": {
      "text/plain": "[('谁的人寿保险是不可靠的', 6.259988641894555e-11),\n ('的可靠可靠谁谁不的', 8.240800072523469e-12),\n ('不的是人寿保险的人寿保险是', 6.183890808009815e-12),\n ('可靠可靠不的不不人寿保险', 2.5010797944370583e-14),\n ('的的的不不可靠不', 2.3068893146070525e-14),\n ('谁的谁是的可靠人寿保险', 4.7106544073252726e-15),\n ('可靠谁可靠谁人寿保险谁谁', 1.2495635310517483e-15),\n ('谁的不的不的是', 4.428959938710469e-17),\n ('的不谁不的的的', 3.5283893568037515e-17),\n ('是谁谁人寿保险谁的的', 3.235767059856203e-17)]"
     },
     "metadata": {},
     "output_type": "execute_result",
     "execution_count": 28
    }
   ],
   "source": [
    "generate_best('谁的人寿保险是不可靠的')\n"
   ],
   "metadata": {
    "collapsed": false,
    "pycharm": {
     "name": "#%%\n",
     "is_executing": false
    }
   }
  },
  {
   "cell_type": "code",
   "execution_count": null,
   "outputs": [],
   "source": [
    "\n"
   ],
   "metadata": {
    "collapsed": false,
    "pycharm": {
     "name": "#%%\n"
    }
   }
  }
 ],
 "metadata": {
  "language_info": {
   "codemirror_mode": {
    "name": "ipython",
    "version": 2
   },
   "file_extension": ".py",
   "mimetype": "text/x-python",
   "name": "python",
   "nbconvert_exporter": "python",
   "pygments_lexer": "ipython2",
   "version": "2.7.6"
  },
  "kernelspec": {
   "name": "python3",
   "language": "python",
   "display_name": "Python 3"
  },
  "pycharm": {
   "stem_cell": {
    "cell_type": "raw",
    "source": [],
    "metadata": {
     "collapsed": false
    }
   }
  }
 },
 "nbformat": 4,
 "nbformat_minor": 0
}